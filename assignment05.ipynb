{
 "cells": [
  {
   "cell_type": "code",
   "execution_count": null,
   "metadata": {},
   "outputs": [],
   "source": [
    "import csv\n",
    "import os\n",
    "import requests\n",
    "\n",
    "csv_url = 'https://raw.githubusercontent.com/prasertcbs/basic-dataset/refs/heads/master/Country_Flags.csv'\n",
    "csv_file_path = 'Country_Flags.csv'\n",
    "flags_directory = 'flags'\n",
    "\n",
    "response = requests.get(csv_url)\n",
    "with open(csv_file_path, 'wb') as file:\n",
    "    file.write(response.content)\n",
    "\n",
    "if not os.path.exists(flags_directory):\n",
    "    os.makedirs(flags_directory)\n",
    "\n",
    "with open(csv_file_path, 'r') as file:\n",
    "    csv_reader = csv.DictReader(file)\n",
    "    for row in csv_reader:\n",
    "        country_name = row['Country Name']\n",
    "        flag_url = row['URL']\n",
    "        flag_response = requests.get(flag_url)\n",
    "        flag_file_path = os.path.join(flags_directory, f\"{country_name}.png\")\n",
    "        with open(flag_file_path, 'wb') as flag_file:\n",
    "            flag_file.write(flag_response.content)\n",
    "        print(f\"Downloaded {country_name}'s flag.\")\n",
    "\n",
    "print(\"All flags downloaded!\")\n"
   ]
  }
 ],
 "metadata": {
  "kernelspec": {
   "display_name": "Python 3",
   "language": "python",
   "name": "python3"
  },
  "language_info": {
   "name": "python",
   "version": "3.10.12"
  }
 },
 "nbformat": 4,
 "nbformat_minor": 2
}
